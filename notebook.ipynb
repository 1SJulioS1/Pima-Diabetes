{
 "cells": [
  {
   "cell_type": "code",
   "execution_count": 2,
   "metadata": {
    "id": "XNHk3Q93SzNi"
   },
   "outputs": [],
   "source": [
    "import pandas as pd\n",
    "import seaborn as sb\n",
    "import matplotlib.pyplot as plt\n",
    "from sklearn import preprocessing\n",
    "import numpy as np"
   ]
  },
  {
   "cell_type": "code",
   "execution_count": 3,
   "metadata": {
    "colab": {
     "base_uri": "https://localhost:8080/",
     "height": 488
    },
    "id": "ufVYrJa1VO5N",
    "outputId": "97011c33-6ddb-41d2-9e29-d4053f4256d5"
   },
   "outputs": [
    {
     "data": {
      "text/html": [
       "<div>\n",
       "<style scoped>\n",
       "    .dataframe tbody tr th:only-of-type {\n",
       "        vertical-align: middle;\n",
       "    }\n",
       "\n",
       "    .dataframe tbody tr th {\n",
       "        vertical-align: top;\n",
       "    }\n",
       "\n",
       "    .dataframe thead th {\n",
       "        text-align: right;\n",
       "    }\n",
       "</style>\n",
       "<table border=\"1\" class=\"dataframe\">\n",
       "  <thead>\n",
       "    <tr style=\"text-align: right;\">\n",
       "      <th></th>\n",
       "      <th>Pregnancies</th>\n",
       "      <th>Glucose</th>\n",
       "      <th>BloodPressure</th>\n",
       "      <th>SkinThickness</th>\n",
       "      <th>Insulin</th>\n",
       "      <th>BMI</th>\n",
       "      <th>DiabetesPedigreeFunction</th>\n",
       "      <th>Age</th>\n",
       "      <th>Outcome</th>\n",
       "    </tr>\n",
       "  </thead>\n",
       "  <tbody>\n",
       "    <tr>\n",
       "      <th>0</th>\n",
       "      <td>6</td>\n",
       "      <td>148</td>\n",
       "      <td>72</td>\n",
       "      <td>35</td>\n",
       "      <td>0</td>\n",
       "      <td>33.6</td>\n",
       "      <td>0.627</td>\n",
       "      <td>50</td>\n",
       "      <td>1</td>\n",
       "    </tr>\n",
       "    <tr>\n",
       "      <th>1</th>\n",
       "      <td>1</td>\n",
       "      <td>85</td>\n",
       "      <td>66</td>\n",
       "      <td>29</td>\n",
       "      <td>0</td>\n",
       "      <td>26.6</td>\n",
       "      <td>0.351</td>\n",
       "      <td>31</td>\n",
       "      <td>0</td>\n",
       "    </tr>\n",
       "    <tr>\n",
       "      <th>2</th>\n",
       "      <td>8</td>\n",
       "      <td>183</td>\n",
       "      <td>64</td>\n",
       "      <td>0</td>\n",
       "      <td>0</td>\n",
       "      <td>23.3</td>\n",
       "      <td>0.672</td>\n",
       "      <td>32</td>\n",
       "      <td>1</td>\n",
       "    </tr>\n",
       "    <tr>\n",
       "      <th>3</th>\n",
       "      <td>1</td>\n",
       "      <td>89</td>\n",
       "      <td>66</td>\n",
       "      <td>23</td>\n",
       "      <td>94</td>\n",
       "      <td>28.1</td>\n",
       "      <td>0.167</td>\n",
       "      <td>21</td>\n",
       "      <td>0</td>\n",
       "    </tr>\n",
       "    <tr>\n",
       "      <th>4</th>\n",
       "      <td>0</td>\n",
       "      <td>137</td>\n",
       "      <td>40</td>\n",
       "      <td>35</td>\n",
       "      <td>168</td>\n",
       "      <td>43.1</td>\n",
       "      <td>2.288</td>\n",
       "      <td>33</td>\n",
       "      <td>1</td>\n",
       "    </tr>\n",
       "    <tr>\n",
       "      <th>...</th>\n",
       "      <td>...</td>\n",
       "      <td>...</td>\n",
       "      <td>...</td>\n",
       "      <td>...</td>\n",
       "      <td>...</td>\n",
       "      <td>...</td>\n",
       "      <td>...</td>\n",
       "      <td>...</td>\n",
       "      <td>...</td>\n",
       "    </tr>\n",
       "    <tr>\n",
       "      <th>763</th>\n",
       "      <td>10</td>\n",
       "      <td>101</td>\n",
       "      <td>76</td>\n",
       "      <td>48</td>\n",
       "      <td>180</td>\n",
       "      <td>32.9</td>\n",
       "      <td>0.171</td>\n",
       "      <td>63</td>\n",
       "      <td>0</td>\n",
       "    </tr>\n",
       "    <tr>\n",
       "      <th>764</th>\n",
       "      <td>2</td>\n",
       "      <td>122</td>\n",
       "      <td>70</td>\n",
       "      <td>27</td>\n",
       "      <td>0</td>\n",
       "      <td>36.8</td>\n",
       "      <td>0.340</td>\n",
       "      <td>27</td>\n",
       "      <td>0</td>\n",
       "    </tr>\n",
       "    <tr>\n",
       "      <th>765</th>\n",
       "      <td>5</td>\n",
       "      <td>121</td>\n",
       "      <td>72</td>\n",
       "      <td>23</td>\n",
       "      <td>112</td>\n",
       "      <td>26.2</td>\n",
       "      <td>0.245</td>\n",
       "      <td>30</td>\n",
       "      <td>0</td>\n",
       "    </tr>\n",
       "    <tr>\n",
       "      <th>766</th>\n",
       "      <td>1</td>\n",
       "      <td>126</td>\n",
       "      <td>60</td>\n",
       "      <td>0</td>\n",
       "      <td>0</td>\n",
       "      <td>30.1</td>\n",
       "      <td>0.349</td>\n",
       "      <td>47</td>\n",
       "      <td>1</td>\n",
       "    </tr>\n",
       "    <tr>\n",
       "      <th>767</th>\n",
       "      <td>1</td>\n",
       "      <td>93</td>\n",
       "      <td>70</td>\n",
       "      <td>31</td>\n",
       "      <td>0</td>\n",
       "      <td>30.4</td>\n",
       "      <td>0.315</td>\n",
       "      <td>23</td>\n",
       "      <td>0</td>\n",
       "    </tr>\n",
       "  </tbody>\n",
       "</table>\n",
       "<p>768 rows × 9 columns</p>\n",
       "</div>"
      ],
      "text/plain": [
       "     Pregnancies  Glucose  BloodPressure  SkinThickness  Insulin   BMI  \\\n",
       "0              6      148             72             35        0  33.6   \n",
       "1              1       85             66             29        0  26.6   \n",
       "2              8      183             64              0        0  23.3   \n",
       "3              1       89             66             23       94  28.1   \n",
       "4              0      137             40             35      168  43.1   \n",
       "..           ...      ...            ...            ...      ...   ...   \n",
       "763           10      101             76             48      180  32.9   \n",
       "764            2      122             70             27        0  36.8   \n",
       "765            5      121             72             23      112  26.2   \n",
       "766            1      126             60              0        0  30.1   \n",
       "767            1       93             70             31        0  30.4   \n",
       "\n",
       "     DiabetesPedigreeFunction  Age  Outcome  \n",
       "0                       0.627   50        1  \n",
       "1                       0.351   31        0  \n",
       "2                       0.672   32        1  \n",
       "3                       0.167   21        0  \n",
       "4                       2.288   33        1  \n",
       "..                        ...  ...      ...  \n",
       "763                     0.171   63        0  \n",
       "764                     0.340   27        0  \n",
       "765                     0.245   30        0  \n",
       "766                     0.349   47        1  \n",
       "767                     0.315   23        0  \n",
       "\n",
       "[768 rows x 9 columns]"
      ]
     },
     "execution_count": 3,
     "metadata": {},
     "output_type": "execute_result"
    }
   ],
   "source": [
    "df = pd.read_csv(\"https://raw.githubusercontent.com/1SJulioS1/Machine_learning/main/Datasets/Datasets/Pima%20Indians%20Diabetes/diabetes.csv\")\n",
    "df"
   ]
  },
  {
   "cell_type": "code",
   "execution_count": 4,
   "metadata": {
    "colab": {
     "base_uri": "https://localhost:8080/"
    },
    "id": "EnEOb6uVVcRp",
    "outputId": "ec2367f9-5e5b-4414-8330-dc6e17fe00ce"
   },
   "outputs": [
    {
     "data": {
      "text/plain": [
       "Index(['Pregnancies', 'Glucose', 'BloodPressure', 'SkinThickness', 'Insulin',\n",
       "       'BMI', 'DiabetesPedigreeFunction', 'Age', 'Outcome'],\n",
       "      dtype='object')"
      ]
     },
     "execution_count": 4,
     "metadata": {},
     "output_type": "execute_result"
    }
   ],
   "source": [
    "df.columns"
   ]
  },
  {
   "cell_type": "markdown",
   "metadata": {
    "id": "rGB3iWMbVjS3"
   },
   "source": [
    "According to the information provided by the DataFrame and the Kaggle link where the data is hosted, the measured variables are as follows:\n",
    "\n",
    "Pregnancies: number of pregnancies\n",
    "Glucose: plasma glucose concentration at 2 hours in an oral glucose tolerance test\n",
    "Blood Pressure: diastolic blood pressure (mm Hg)\n",
    "Skin Thickness: thickness of the triceps skinfold (mm)\n",
    "Insulin: 2-hour serum insulin (mu U/ml)\n",
    "BMI: body mass index ((weight in kg)/(height in m^2))\n",
    "Diabetes Pedigree Function: assesses the probability of diabetes based on family history\n",
    "Age\n",
    "Outcome: 1 if diabetes is present, 0 otherwise"
   ]
  },
  {
   "cell_type": "code",
   "execution_count": 5,
   "metadata": {
    "colab": {
     "base_uri": "https://localhost:8080/"
    },
    "id": "YwBAtsoNX75M",
    "outputId": "b210023f-0fcf-485a-b173-76b9a71484a0"
   },
   "outputs": [
    {
     "name": "stdout",
     "output_type": "stream",
     "text": [
      "<class 'pandas.core.frame.DataFrame'>\n",
      "RangeIndex: 768 entries, 0 to 767\n",
      "Data columns (total 9 columns):\n",
      " #   Column                    Non-Null Count  Dtype  \n",
      "---  ------                    --------------  -----  \n",
      " 0   Pregnancies               768 non-null    int64  \n",
      " 1   Glucose                   768 non-null    int64  \n",
      " 2   BloodPressure             768 non-null    int64  \n",
      " 3   SkinThickness             768 non-null    int64  \n",
      " 4   Insulin                   768 non-null    int64  \n",
      " 5   BMI                       768 non-null    float64\n",
      " 6   DiabetesPedigreeFunction  768 non-null    float64\n",
      " 7   Age                       768 non-null    int64  \n",
      " 8   Outcome                   768 non-null    int64  \n",
      "dtypes: float64(2), int64(7)\n",
      "memory usage: 54.1 KB\n"
     ]
    }
   ],
   "source": [
    "df.info()"
   ]
  },
  {
   "cell_type": "code",
   "execution_count": 6,
   "metadata": {
    "colab": {
     "base_uri": "https://localhost:8080/"
    },
    "id": "Nor2DsYCetPq",
    "outputId": "587fdc3c-f0f1-4af0-c4f5-2d161b78280e"
   },
   "outputs": [
    {
     "data": {
      "text/plain": [
       "Pregnancies                 0\n",
       "Glucose                     0\n",
       "BloodPressure               0\n",
       "SkinThickness               0\n",
       "Insulin                     0\n",
       "BMI                         0\n",
       "DiabetesPedigreeFunction    0\n",
       "Age                         0\n",
       "Outcome                     0\n",
       "dtype: int64"
      ]
     },
     "execution_count": 6,
     "metadata": {},
     "output_type": "execute_result"
    }
   ],
   "source": [
    "df.isna().sum()"
   ]
  },
  {
   "cell_type": "markdown",
   "metadata": {
    "id": "82NEB_-jYCi5"
   },
   "source": [
    "\n",
    "A total of 768 measurements are taken for each of the variables. As shown in the analysis, there are no missing data.\n",
    "\n",
    "The goal is to understand the distribution of diabetes cases in the analyzed population."
   ]
  },
  {
   "cell_type": "code",
   "execution_count": 7,
   "metadata": {
    "colab": {
     "base_uri": "https://localhost:8080/",
     "height": 296
    },
    "id": "dmcETozNYA-_",
    "outputId": "4d1bcdca-8533-4883-d734-bc56dff1b033"
   },
   "outputs": [
    {
     "data": {
      "text/plain": [
       "<AxesSubplot:xlabel='Outcome', ylabel='count'>"
      ]
     },
     "execution_count": 7,
     "metadata": {},
     "output_type": "execute_result"
    },
    {
     "data": {
      "image/png": "[encoded data removed]",
      "text/plain": [
       "<Figure size 432x288 with 1 Axes>"
      ]
     },
     "metadata": {
      "needs_background": "light"
     },
     "output_type": "display_data"
    }
   ],
   "source": [
    "sb.countplot(x='Outcome',data=df)"
   ]
  },
  {
   "cell_type": "code",
   "execution_count": 8,
   "metadata": {
    "colab": {
     "base_uri": "https://localhost:8080/",
     "height": 112
    },
    "id": "X_VCRCcldr1S",
    "outputId": "499a1ed6-cd13-4770-a786-4f9eb6ebbf4a"
   },
   "outputs": [
    {
     "data": {
      "text/html": [
       "<div>\n",
       "<style scoped>\n",
       "    .dataframe tbody tr th:only-of-type {\n",
       "        vertical-align: middle;\n",
       "    }\n",
       "\n",
       "    .dataframe tbody tr th {\n",
       "        vertical-align: top;\n",
       "    }\n",
       "\n",
       "    .dataframe thead th {\n",
       "        text-align: right;\n",
       "    }\n",
       "</style>\n",
       "<table border=\"1\" class=\"dataframe\">\n",
       "  <thead>\n",
       "    <tr style=\"text-align: right;\">\n",
       "      <th></th>\n",
       "      <th>index</th>\n",
       "      <th>Outcome</th>\n",
       "    </tr>\n",
       "  </thead>\n",
       "  <tbody>\n",
       "    <tr>\n",
       "      <th>0</th>\n",
       "      <td>0</td>\n",
       "      <td>500</td>\n",
       "    </tr>\n",
       "    <tr>\n",
       "      <th>1</th>\n",
       "      <td>1</td>\n",
       "      <td>268</td>\n",
       "    </tr>\n",
       "  </tbody>\n",
       "</table>\n",
       "</div>"
      ],
      "text/plain": [
       "   index  Outcome\n",
       "0      0      500\n",
       "1      1      268"
      ]
     },
     "execution_count": 8,
     "metadata": {},
     "output_type": "execute_result"
    }
   ],
   "source": [
    "df.Outcome.value_counts().reset_index()"
   ]
  },
  {
   "cell_type": "markdown",
   "metadata": {
    "id": "qFlOEQAaecGS"
   },
   "source": [
    "There are a total of 768 cases, out of which 500 do not have diabetes, and 268 are affected by the disease.\n",
    "\n",
    "\n",
    "\n",
    "\n"
   ]
  },
  {
   "cell_type": "markdown",
   "metadata": {
    "id": "tXyKDjPwkTq0"
   },
   "source": [
    "# Descriptive Analysis and Data Cleaning\n",
    "\n",
    "\n",
    "\n",
    "\n"
   ]
  },
  {
   "cell_type": "code",
   "execution_count": 9,
   "metadata": {
    "colab": {
     "base_uri": "https://localhost:8080/",
     "height": 364
    },
    "id": "IFzGWZgvkqIj",
    "outputId": "2e631f33-4137-4337-f0a5-4c0b6ce28ed3"
   },
   "outputs": [
    {
     "data": {
      "text/html": [
       "<div>\n",
       "<style scoped>\n",
       "    .dataframe tbody tr th:only-of-type {\n",
       "        vertical-align: middle;\n",
       "    }\n",
       "\n",
       "    .dataframe tbody tr th {\n",
       "        vertical-align: top;\n",
       "    }\n",
       "\n",
       "    .dataframe thead th {\n",
       "        text-align: right;\n",
       "    }\n",
       "</style>\n",
       "<table border=\"1\" class=\"dataframe\">\n",
       "  <thead>\n",
       "    <tr style=\"text-align: right;\">\n",
       "      <th></th>\n",
       "      <th>Pregnancies</th>\n",
       "      <th>Glucose</th>\n",
       "      <th>BloodPressure</th>\n",
       "      <th>SkinThickness</th>\n",
       "      <th>Insulin</th>\n",
       "      <th>BMI</th>\n",
       "      <th>DiabetesPedigreeFunction</th>\n",
       "      <th>Age</th>\n",
       "      <th>Outcome</th>\n",
       "    </tr>\n",
       "  </thead>\n",
       "  <tbody>\n",
       "    <tr>\n",
       "      <th>count</th>\n",
       "      <td>768.000000</td>\n",
       "      <td>768.000000</td>\n",
       "      <td>768.000000</td>\n",
       "      <td>768.000000</td>\n",
       "      <td>768.000000</td>\n",
       "      <td>768.000000</td>\n",
       "      <td>768.000000</td>\n",
       "      <td>768.000000</td>\n",
       "      <td>768.000000</td>\n",
       "    </tr>\n",
       "    <tr>\n",
       "      <th>mean</th>\n",
       "      <td>3.845052</td>\n",
       "      <td>120.894531</td>\n",
       "      <td>69.105469</td>\n",
       "      <td>20.536458</td>\n",
       "      <td>79.799479</td>\n",
       "      <td>31.992578</td>\n",
       "      <td>0.471876</td>\n",
       "      <td>33.240885</td>\n",
       "      <td>0.348958</td>\n",
       "    </tr>\n",
       "    <tr>\n",
       "      <th>std</th>\n",
       "      <td>3.369578</td>\n",
       "      <td>31.972618</td>\n",
       "      <td>19.355807</td>\n",
       "      <td>15.952218</td>\n",
       "      <td>115.244002</td>\n",
       "      <td>7.884160</td>\n",
       "      <td>0.331329</td>\n",
       "      <td>11.760232</td>\n",
       "      <td>0.476951</td>\n",
       "    </tr>\n",
       "    <tr>\n",
       "      <th>min</th>\n",
       "      <td>0.000000</td>\n",
       "      <td>0.000000</td>\n",
       "      <td>0.000000</td>\n",
       "      <td>0.000000</td>\n",
       "      <td>0.000000</td>\n",
       "      <td>0.000000</td>\n",
       "      <td>0.078000</td>\n",
       "      <td>21.000000</td>\n",
       "      <td>0.000000</td>\n",
       "    </tr>\n",
       "    <tr>\n",
       "      <th>25%</th>\n",
       "      <td>1.000000</td>\n",
       "      <td>99.000000</td>\n",
       "      <td>62.000000</td>\n",
       "      <td>0.000000</td>\n",
       "      <td>0.000000</td>\n",
       "      <td>27.300000</td>\n",
       "      <td>0.243750</td>\n",
       "      <td>24.000000</td>\n",
       "      <td>0.000000</td>\n",
       "    </tr>\n",
       "    <tr>\n",
       "      <th>50%</th>\n",
       "      <td>3.000000</td>\n",
       "      <td>117.000000</td>\n",
       "      <td>72.000000</td>\n",
       "      <td>23.000000</td>\n",
       "      <td>30.500000</td>\n",
       "      <td>32.000000</td>\n",
       "      <td>0.372500</td>\n",
       "      <td>29.000000</td>\n",
       "      <td>0.000000</td>\n",
       "    </tr>\n",
       "    <tr>\n",
       "      <th>75%</th>\n",
       "      <td>6.000000</td>\n",
       "      <td>140.250000</td>\n",
       "      <td>80.000000</td>\n",
       "      <td>32.000000</td>\n",
       "      <td>127.250000</td>\n",
       "      <td>36.600000</td>\n",
       "      <td>0.626250</td>\n",
       "      <td>41.000000</td>\n",
       "      <td>1.000000</td>\n",
       "    </tr>\n",
       "    <tr>\n",
       "      <th>max</th>\n",
       "      <td>17.000000</td>\n",
       "      <td>199.000000</td>\n",
       "      <td>122.000000</td>\n",
       "      <td>99.000000</td>\n",
       "      <td>846.000000</td>\n",
       "      <td>67.100000</td>\n",
       "      <td>2.420000</td>\n",
       "      <td>81.000000</td>\n",
       "      <td>1.000000</td>\n",
       "    </tr>\n",
       "  </tbody>\n",
       "</table>\n",
       "</div>"
      ],
      "text/plain": [
       "       Pregnancies     Glucose  BloodPressure  SkinThickness     Insulin  \\\n",
       "count   768.000000  768.000000     768.000000     768.000000  768.000000   \n",
       "mean      3.845052  120.894531      69.105469      20.536458   79.799479   \n",
       "std       3.369578   31.972618      19.355807      15.952218  115.244002   \n",
       "min       0.000000    0.000000       0.000000       0.000000    0.000000   \n",
       "25%       1.000000   99.000000      62.000000       0.000000    0.000000   \n",
       "50%       3.000000  117.000000      72.000000      23.000000   30.500000   \n",
       "75%       6.000000  140.250000      80.000000      32.000000  127.250000   \n",
       "max      17.000000  199.000000     122.000000      99.000000  846.000000   \n",
       "\n",
       "              BMI  DiabetesPedigreeFunction         Age     Outcome  \n",
       "count  768.000000                768.000000  768.000000  768.000000  \n",
       "mean    31.992578                  0.471876   33.240885    0.348958  \n",
       "std      7.884160                  0.331329   11.760232    0.476951  \n",
       "min      0.000000                  0.078000   21.000000    0.000000  \n",
       "25%     27.300000                  0.243750   24.000000    0.000000  \n",
       "50%     32.000000                  0.372500   29.000000    0.000000  \n",
       "75%     36.600000                  0.626250   41.000000    1.000000  \n",
       "max     67.100000                  2.420000   81.000000    1.000000  "
      ]
     },
     "execution_count": 9,
     "metadata": {},
     "output_type": "execute_result"
    }
   ],
   "source": [
    "df.describe()"
   ]
  },
  {
   "cell_type": "markdown",
   "metadata": {
    "id": "FCGh8niumamO"
   },
   "source": [
    "Despite the completeness of values regarding the absence of NaN, there are inconsistencies in the following variables:\n",
    "\n",
    "Glucose: It's impossible for a person to have a blood glucose level of 0, as it would cause insulin shock or hypoglycemia.\n",
    "Body Mass Index (BMI): It's impossible for this metric to be 0, as the person's weight would be 0.\n",
    "Blood Pressure: It's impossible for a person to have a blood pressure of 0.\n",
    "Skin Thickness: For normal individuals, this metric cannot be lower than 10mm, let alone equal to 0mm."
   ]
  },
  {
   "cell_type": "code",
   "execution_count": 10,
   "metadata": {
    "colab": {
     "base_uri": "https://localhost:8080/"
    },
    "id": "gF7UsuLUpTlQ",
    "outputId": "711464a8-bb4a-455b-b7dc-2ca777336119"
   },
   "outputs": [
    {
     "data": {
      "text/plain": [
       "(5, 35, 227, 374, 11)"
      ]
     },
     "execution_count": 10,
     "metadata": {},
     "output_type": "execute_result"
    }
   ],
   "source": [
    "(df.Glucose==0).sum(),(df.BloodPressure==0).sum(),(df.SkinThickness==0).sum(),(df.Insulin==0).sum(),(df.BMI==0).sum()"
   ]
  },
  {
   "cell_type": "markdown",
   "metadata": {
    "id": "m6UaNohFpwm9"
   },
   "source": [
    "Due to the aforementioned inconsistency, it has been decided to remove rows with a significant number of values equal to zero. This will be done for the \"Skin Thickness\" and \"Insulin\" columns. For the \"Glucose\" and \"Body Mass Index (BMI)\" columns, imputation will be performed using the mean of the values due to the small amount of missing values."
   ]
  },
  {
   "cell_type": "code",
   "execution_count": 11,
   "metadata": {
    "colab": {
     "base_uri": "https://localhost:8080/"
    },
    "id": "TdJhTnOZq_dI",
    "outputId": "6749a010-f886-41e9-b99b-5f3158d0facd"
   },
   "outputs": [
    {
     "name": "stdout",
     "output_type": "stream",
     "text": [
      "<class 'pandas.core.frame.DataFrame'>\n",
      "Int64Index: 394 entries, 3 to 765\n",
      "Data columns (total 9 columns):\n",
      " #   Column                    Non-Null Count  Dtype  \n",
      "---  ------                    --------------  -----  \n",
      " 0   Pregnancies               394 non-null    int64  \n",
      " 1   Glucose                   394 non-null    int64  \n",
      " 2   BloodPressure             394 non-null    int64  \n",
      " 3   SkinThickness             394 non-null    int64  \n",
      " 4   Insulin                   394 non-null    int64  \n",
      " 5   BMI                       394 non-null    float64\n",
      " 6   DiabetesPedigreeFunction  394 non-null    float64\n",
      " 7   Age                       394 non-null    int64  \n",
      " 8   Outcome                   394 non-null    int64  \n",
      "dtypes: float64(2), int64(7)\n",
      "memory usage: 30.8 KB\n"
     ]
    }
   ],
   "source": [
    "drop_Skin = df.index[df.SkinThickness==0].tolist()\n",
    "drop_Ins = df.index[df.Insulin==0].tolist()\n",
    "drop_rows = drop_Ins+drop_Skin\n",
    "df = df.drop(df.index[drop_rows])\n",
    "df.info()"
   ]
  },
  {
   "cell_type": "code",
   "execution_count": 12,
   "metadata": {
    "id": "SG-zBntcZ4Pk"
   },
   "outputs": [],
   "source": [
    "df[\"Glucose\"] = df[\"Glucose\"].replace(0, df[\"Glucose\"].median())\n",
    "df[\"BMI\"] = df[\"BMI\"].replace(0, df[\"BMI\"].median())"
   ]
  },
  {
   "cell_type": "code",
   "execution_count": null,
   "metadata": {
    "colab": {
     "base_uri": "https://localhost:8080/"
    },
    "id": "PqCkhfKgafb5",
    "outputId": "d3d421ba-0a7c-4426-9c44-7b03483f1f98"
   },
   "outputs": [],
   "source": [
    "(df.Glucose==0).sum(),(df.BloodPressure==0).sum(),(df.SkinThickness==0).sum(),(df.Insulin==0).sum(),(df.BMI==0).sum()"
   ]
  },
  {
   "cell_type": "code",
   "execution_count": 41,
   "metadata": {},
   "outputs": [
    {
     "data": {
      "text/html": [
       "<div>\n",
       "<style scoped>\n",
       "    .dataframe tbody tr th:only-of-type {\n",
       "        vertical-align: middle;\n",
       "    }\n",
       "\n",
       "    .dataframe tbody tr th {\n",
       "        vertical-align: top;\n",
       "    }\n",
       "\n",
       "    .dataframe thead th {\n",
       "        text-align: right;\n",
       "    }\n",
       "</style>\n",
       "<table border=\"1\" class=\"dataframe\">\n",
       "  <thead>\n",
       "    <tr style=\"text-align: right;\">\n",
       "      <th></th>\n",
       "      <th>Pregnancies</th>\n",
       "      <th>Glucose</th>\n",
       "      <th>BloodPressure</th>\n",
       "      <th>SkinThickness</th>\n",
       "      <th>Insulin</th>\n",
       "      <th>BMI</th>\n",
       "      <th>DiabetesPedigreeFunction</th>\n",
       "      <th>Age</th>\n",
       "      <th>Outcome</th>\n",
       "    </tr>\n",
       "  </thead>\n",
       "  <tbody>\n",
       "    <tr>\n",
       "      <th>count</th>\n",
       "      <td>394.000000</td>\n",
       "      <td>394.000000</td>\n",
       "      <td>394.000000</td>\n",
       "      <td>394.000000</td>\n",
       "      <td>394.000000</td>\n",
       "      <td>394.000000</td>\n",
       "      <td>394.000000</td>\n",
       "      <td>394.000000</td>\n",
       "      <td>394.000000</td>\n",
       "    </tr>\n",
       "    <tr>\n",
       "      <th>mean</th>\n",
       "      <td>3.286802</td>\n",
       "      <td>122.606599</td>\n",
       "      <td>70.654822</td>\n",
       "      <td>29.106599</td>\n",
       "      <td>155.548223</td>\n",
       "      <td>33.072843</td>\n",
       "      <td>0.525543</td>\n",
       "      <td>30.814721</td>\n",
       "      <td>0.329949</td>\n",
       "    </tr>\n",
       "    <tr>\n",
       "      <th>std</th>\n",
       "      <td>3.209635</td>\n",
       "      <td>30.783576</td>\n",
       "      <td>12.469919</td>\n",
       "      <td>10.504273</td>\n",
       "      <td>118.775855</td>\n",
       "      <td>7.015007</td>\n",
       "      <td>0.350127</td>\n",
       "      <td>10.198971</td>\n",
       "      <td>0.470792</td>\n",
       "    </tr>\n",
       "    <tr>\n",
       "      <th>min</th>\n",
       "      <td>0.000000</td>\n",
       "      <td>56.000000</td>\n",
       "      <td>24.000000</td>\n",
       "      <td>7.000000</td>\n",
       "      <td>14.000000</td>\n",
       "      <td>18.200000</td>\n",
       "      <td>0.085000</td>\n",
       "      <td>21.000000</td>\n",
       "      <td>0.000000</td>\n",
       "    </tr>\n",
       "    <tr>\n",
       "      <th>25%</th>\n",
       "      <td>1.000000</td>\n",
       "      <td>99.000000</td>\n",
       "      <td>62.000000</td>\n",
       "      <td>21.000000</td>\n",
       "      <td>76.250000</td>\n",
       "      <td>28.400000</td>\n",
       "      <td>0.270250</td>\n",
       "      <td>23.000000</td>\n",
       "      <td>0.000000</td>\n",
       "    </tr>\n",
       "    <tr>\n",
       "      <th>50%</th>\n",
       "      <td>2.000000</td>\n",
       "      <td>119.000000</td>\n",
       "      <td>70.000000</td>\n",
       "      <td>29.000000</td>\n",
       "      <td>125.000000</td>\n",
       "      <td>33.200000</td>\n",
       "      <td>0.449500</td>\n",
       "      <td>27.000000</td>\n",
       "      <td>0.000000</td>\n",
       "    </tr>\n",
       "    <tr>\n",
       "      <th>75%</th>\n",
       "      <td>5.000000</td>\n",
       "      <td>143.000000</td>\n",
       "      <td>78.000000</td>\n",
       "      <td>36.750000</td>\n",
       "      <td>190.000000</td>\n",
       "      <td>37.075000</td>\n",
       "      <td>0.687000</td>\n",
       "      <td>36.000000</td>\n",
       "      <td>1.000000</td>\n",
       "    </tr>\n",
       "    <tr>\n",
       "      <th>max</th>\n",
       "      <td>17.000000</td>\n",
       "      <td>198.000000</td>\n",
       "      <td>110.000000</td>\n",
       "      <td>63.000000</td>\n",
       "      <td>846.000000</td>\n",
       "      <td>67.100000</td>\n",
       "      <td>2.420000</td>\n",
       "      <td>81.000000</td>\n",
       "      <td>1.000000</td>\n",
       "    </tr>\n",
       "  </tbody>\n",
       "</table>\n",
       "</div>"
      ],
      "text/plain": [
       "       Pregnancies     Glucose  BloodPressure  SkinThickness     Insulin  \\\n",
       "count   394.000000  394.000000     394.000000     394.000000  394.000000   \n",
       "mean      3.286802  122.606599      70.654822      29.106599  155.548223   \n",
       "std       3.209635   30.783576      12.469919      10.504273  118.775855   \n",
       "min       0.000000   56.000000      24.000000       7.000000   14.000000   \n",
       "25%       1.000000   99.000000      62.000000      21.000000   76.250000   \n",
       "50%       2.000000  119.000000      70.000000      29.000000  125.000000   \n",
       "75%       5.000000  143.000000      78.000000      36.750000  190.000000   \n",
       "max      17.000000  198.000000     110.000000      63.000000  846.000000   \n",
       "\n",
       "              BMI  DiabetesPedigreeFunction         Age     Outcome  \n",
       "count  394.000000                394.000000  394.000000  394.000000  \n",
       "mean    33.072843                  0.525543   30.814721    0.329949  \n",
       "std      7.015007                  0.350127   10.198971    0.470792  \n",
       "min     18.200000                  0.085000   21.000000    0.000000  \n",
       "25%     28.400000                  0.270250   23.000000    0.000000  \n",
       "50%     33.200000                  0.449500   27.000000    0.000000  \n",
       "75%     37.075000                  0.687000   36.000000    1.000000  \n",
       "max     67.100000                  2.420000   81.000000    1.000000  "
      ]
     },
     "execution_count": 41,
     "metadata": {},
     "output_type": "execute_result"
    }
   ],
   "source": [
    "df.describe()"
   ]
  },
  {
   "cell_type": "markdown",
   "metadata": {},
   "source": [
    "After data cleaning, the following observations become evident:\n"
   ]
  },
  {
   "cell_type": "markdown",
   "metadata": {},
   "source": [
    "\n",
    "* The age of the analyzed population ranges between 21 and 81 years, with an average of 30.\n",
    "* Generally, the population had some pregnancies, as indicated by an average of around 3.\n",
    "* The glucose factor in the population was higher than the estimated mean glucose value, which is typically around 70 mg/dL according to studies. This variable will be further analyzed, demonstrating its strong relationship with the presence of the disease.\n",
    "* Overall, insulin levels are higher than the average values in studies, which suggest between 60-100 mg/dL and 140 mg/dL or less after meals and snacks."
   ]
  },
  {
   "cell_type": "markdown",
   "metadata": {
    "id": "E-ScduKUez2v"
   },
   "source": [
    "# Variable Analysis\n",
    "\n",
    "For each of the variables, we will observe the distribution of the number of individuals who have the disease, contrasted with the analyzed variable.\n",
    "\n"
   ]
  },
  {
   "cell_type": "markdown",
   "metadata": {
    "id": "PE4q3GKEe8Yr"
   },
   "source": [
    "## Pregnacy\n"
   ]
  },
  {
   "cell_type": "code",
   "execution_count": 14,
   "metadata": {
    "colab": {
     "base_uri": "https://localhost:8080/"
    },
    "id": "0aPVlNCogHYJ",
    "outputId": "0cb40056-6bad-4a11-ec7e-95c90b5908a7"
   },
   "outputs": [
    {
     "data": {
      "text/plain": [
       "0     57\n",
       "1     94\n",
       "2     64\n",
       "3     45\n",
       "4     27\n",
       "5     21\n",
       "6     19\n",
       "7     20\n",
       "8     14\n",
       "9     11\n",
       "10     6\n",
       "11     5\n",
       "12     5\n",
       "13     3\n",
       "14     1\n",
       "15     1\n",
       "17     1\n",
       "Name: Pregnancies, dtype: int64"
      ]
     },
     "execution_count": 14,
     "metadata": {},
     "output_type": "execute_result"
    }
   ],
   "source": [
    "a = df.Pregnancies.value_counts().sort_index()\n",
    "a"
   ]
  },
  {
   "cell_type": "markdown",
   "metadata": {
    "id": "WWeteUqFgT7k"
   },
   "source": [
    "The range of the number of pregnancies is limited between 0 and 17, excluding 16 pregnancies which are not present in the dataset."
   ]
  },
  {
   "cell_type": "code",
   "execution_count": 15,
   "metadata": {
    "colab": {
     "base_uri": "https://localhost:8080/",
     "height": 106
    },
    "id": "WlmDF20BioXF",
    "outputId": "855a4f20-fb64-4064-bf5e-f05276825087"
   },
   "outputs": [
    {
     "data": {
      "text/plain": [
       "<AxesSubplot:xlabel='Outcome', ylabel='count'>"
      ]
     },
     "execution_count": 15,
     "metadata": {},
     "output_type": "execute_result"
    },
    {
     "data": {
      "image/png": "[encoded data removed]",
      "text/plain": [
       "<Figure size 432x288 with 1 Axes>"
      ]
     },
     "metadata": {
      "needs_background": "light"
     },
     "output_type": "display_data"
    }
   ],
   "source": [
    "sb.countplot(x='Outcome',hue='Pregnancies',data=df)"
   ]
  },
  {
   "cell_type": "markdown",
   "metadata": {
    "id": "7RJLkkTPjQz4"
   },
   "source": [
    "Based on the obtained results, it is necessary to consider the number of pregnancies to determine whether a person has the disease or not.\n",
    "\n",
    "\n",
    "\n",
    "\n"
   ]
  },
  {
   "cell_type": "markdown",
   "metadata": {
    "id": "373YLwoljdZC"
   },
   "source": [
    "## Glucose"
   ]
  },
  {
   "cell_type": "code",
   "execution_count": 16,
   "metadata": {
    "colab": {
     "base_uri": "https://localhost:8080/"
    },
    "id": "uHqX8ooujjxe",
    "outputId": "404437b5-2133-4f0e-e4f9-6c5b0e289ad9"
   },
   "outputs": [
    {
     "data": {
      "text/plain": [
       "56     1\n",
       "68     3\n",
       "71     2\n",
       "74     3\n",
       "75     1\n",
       "      ..\n",
       "193    1\n",
       "195    1\n",
       "196    2\n",
       "197    2\n",
       "198    1\n",
       "Name: Glucose, Length: 117, dtype: int64"
      ]
     },
     "execution_count": 16,
     "metadata": {},
     "output_type": "execute_result"
    }
   ],
   "source": [
    "a = df.Glucose.value_counts().sort_index()\n",
    "a"
   ]
  },
  {
   "cell_type": "markdown",
   "metadata": {
    "id": "1wSuye4wjs6F"
   },
   "source": [
    "Several categories for glucose measurement exist in the dataset, making direct visualization challenging. To analyze this variable, grouping of values is performed to visualize the disease distribution more effectively.\n",
    "\n",
    "\n",
    "\n",
    "\n"
   ]
  },
  {
   "cell_type": "code",
   "execution_count": 17,
   "metadata": {
    "id": "fl0GIguJp8OJ"
   },
   "outputs": [],
   "source": [
    "has_diabetes = df[df['Outcome'] == 1] \n",
    "has_no_diabetes = df[df['Outcome']==0]"
   ]
  },
  {
   "cell_type": "code",
   "execution_count": 18,
   "metadata": {
    "colab": {
     "base_uri": "https://localhost:8080/",
     "height": 552
    },
    "id": "IKHmpAUErhY-",
    "outputId": "f7c93704-6322-4663-f8c3-b80b51c7d07a"
   },
   "outputs": [
    {
     "name": "stderr",
     "output_type": "stream",
     "text": [
      "C:\\Users\\siles\\anaconda3\\lib\\site-packages\\seaborn\\distributions.py:2619: FutureWarning: `distplot` is a deprecated function and will be removed in a future version. Please adapt your code to use either `displot` (a figure-level function with similar flexibility) or `histplot` (an axes-level function for histograms).\n",
      "  warnings.warn(msg, FutureWarning)\n"
     ]
    },
    {
     "data": {
      "image/png": "[encoded data removed]",
      "text/plain": [
       "<Figure size 720x576 with 1 Axes>"
      ]
     },
     "metadata": {
      "needs_background": "light"
     },
     "output_type": "display_data"
    }
   ],
   "source": [
    "fig, ax = plt.subplots(figsize=(10,8))\n",
    "ax = sb.distplot(has_diabetes['Glucose'],bins=50,kde=False) \n",
    "ax = sb.distplot(has_no_diabetes['Glucose'],bins=50,kde=False) \n",
    "plt.show()"
   ]
  },
  {
   "cell_type": "markdown",
   "metadata": {
    "id": "pEB_kpQcK1wL"
   },
   "source": [
    "It can be observed that blood glucose levels are evidently closely related to the presence of diabetes.\n",
    "\n",
    "\n",
    "\n",
    "\n"
   ]
  },
  {
   "cell_type": "markdown",
   "metadata": {
    "id": "m_OVdd8ELGAs"
   },
   "source": [
    "## Blood Pressure"
   ]
  },
  {
   "cell_type": "code",
   "execution_count": 19,
   "metadata": {
    "colab": {
     "base_uri": "https://localhost:8080/"
    },
    "id": "kfWgKMV9LKHx",
    "outputId": "df03653d-94a1-4130-f9b9-f730d6d599ee"
   },
   "outputs": [
    {
     "data": {
      "text/plain": [
       "24      1\n",
       "30      2\n",
       "38      1\n",
       "40      1\n",
       "44      3\n",
       "46      2\n",
       "48      3\n",
       "50     10\n",
       "52      6\n",
       "54      8\n",
       "56      8\n",
       "58     18\n",
       "60     20\n",
       "62     19\n",
       "64     28\n",
       "65      2\n",
       "66     15\n",
       "68     24\n",
       "70     31\n",
       "72     23\n",
       "74     31\n",
       "76     20\n",
       "78     23\n",
       "80     17\n",
       "82     17\n",
       "84     11\n",
       "85      2\n",
       "86     11\n",
       "88     15\n",
       "90     11\n",
       "92      1\n",
       "94      2\n",
       "98      1\n",
       "100     2\n",
       "102     1\n",
       "106     2\n",
       "110     2\n",
       "Name: BloodPressure, dtype: int64"
      ]
     },
     "execution_count": 19,
     "metadata": {},
     "output_type": "execute_result"
    }
   ],
   "source": [
    "a = df.BloodPressure.value_counts().sort_index()\n",
    "a"
   ]
  },
  {
   "cell_type": "markdown",
   "metadata": {
    "id": "yV3FXzPKLOI2"
   },
   "source": [
    "Similarly, there are multiple values in this variable, so it's necessary to create ranges to visualize the influence on the presence of the disease.\n",
    "\n",
    "\n",
    "\n",
    "\n"
   ]
  },
  {
   "cell_type": "code",
   "execution_count": 20,
   "metadata": {
    "colab": {
     "base_uri": "https://localhost:8080/",
     "height": 54
    },
    "id": "psaeY1vRLZw5",
    "outputId": "0b21c3e6-b5de-4a95-da3e-7ceee2e08be5"
   },
   "outputs": [
    {
     "name": "stderr",
     "output_type": "stream",
     "text": [
      "C:\\Users\\siles\\anaconda3\\lib\\site-packages\\seaborn\\distributions.py:2619: FutureWarning: `distplot` is a deprecated function and will be removed in a future version. Please adapt your code to use either `displot` (a figure-level function with similar flexibility) or `histplot` (an axes-level function for histograms).\n",
      "  warnings.warn(msg, FutureWarning)\n"
     ]
    },
    {
     "data": {
      "image/png": "[encoded data removed]",
      "text/plain": [
       "<Figure size 720x576 with 1 Axes>"
      ]
     },
     "metadata": {
      "needs_background": "light"
     },
     "output_type": "display_data"
    }
   ],
   "source": [
    "fig, ax = plt.subplots(figsize=(10,8))\n",
    "ax = sb.distplot(has_diabetes['BloodPressure'],bins=50,kde=False) \n",
    "ax = sb.distplot(has_no_diabetes['BloodPressure'],bins=50,kde=False) \n",
    "plt.show()"
   ]
  },
  {
   "cell_type": "markdown",
   "metadata": {
    "id": "Np6VYYKPLucf"
   },
   "source": [
    "This variable can be established as a determining factor in deciding whether someone has diabetes or not.\n",
    "\n",
    "\n",
    "\n",
    "\n"
   ]
  },
  {
   "cell_type": "markdown",
   "metadata": {
    "id": "-XI0WHxiMESA"
   },
   "source": [
    "## Skin Thickness"
   ]
  },
  {
   "cell_type": "code",
   "execution_count": 21,
   "metadata": {
    "colab": {
     "base_uri": "https://localhost:8080/"
    },
    "id": "YCdObYWrL9vC",
    "outputId": "ec15d813-0a2a-4bc2-db10-1a81c0b1d3fb"
   },
   "outputs": [
    {
     "data": {
      "text/plain": [
       "7      2\n",
       "8      1\n",
       "10     3\n",
       "11     5\n",
       "12     6\n",
       "13    10\n",
       "14     6\n",
       "15    11\n",
       "16     5\n",
       "17    10\n",
       "18    16\n",
       "19    12\n",
       "20     8\n",
       "21     8\n",
       "22     9\n",
       "23    17\n",
       "24     8\n",
       "25    12\n",
       "26    14\n",
       "27    14\n",
       "28    13\n",
       "29    14\n",
       "30    18\n",
       "31     8\n",
       "32    20\n",
       "33    17\n",
       "34     8\n",
       "35    11\n",
       "36     9\n",
       "37    11\n",
       "38     3\n",
       "39    12\n",
       "40    10\n",
       "41    12\n",
       "42     9\n",
       "43     5\n",
       "44     4\n",
       "45     6\n",
       "46     7\n",
       "47     4\n",
       "48     4\n",
       "49     3\n",
       "50     3\n",
       "51     1\n",
       "52     2\n",
       "56     1\n",
       "60     1\n",
       "63     1\n",
       "Name: SkinThickness, dtype: int64"
      ]
     },
     "execution_count": 21,
     "metadata": {},
     "output_type": "execute_result"
    }
   ],
   "source": [
    "a = df.SkinThickness.value_counts().sort_index()\n",
    "a"
   ]
  },
  {
   "cell_type": "markdown",
   "metadata": {
    "id": "6lz8RZKnMSA5"
   },
   "source": [
    "The same procedure is carried out for the existing categories in this variable.\n",
    "\n",
    "\n",
    "\n",
    "\n"
   ]
  },
  {
   "cell_type": "code",
   "execution_count": 22,
   "metadata": {
    "colab": {
     "base_uri": "https://localhost:8080/",
     "height": 54
    },
    "id": "qZ4VrcdeMYQ0",
    "outputId": "dd0267da-0a98-4951-fec5-d6dadb9bd5e9"
   },
   "outputs": [
    {
     "name": "stderr",
     "output_type": "stream",
     "text": [
      "C:\\Users\\siles\\anaconda3\\lib\\site-packages\\seaborn\\distributions.py:2619: FutureWarning: `distplot` is a deprecated function and will be removed in a future version. Please adapt your code to use either `displot` (a figure-level function with similar flexibility) or `histplot` (an axes-level function for histograms).\n",
      "  warnings.warn(msg, FutureWarning)\n"
     ]
    },
    {
     "data": {
      "image/png": "[encoded data removed]",
      "text/plain": [
       "<Figure size 720x576 with 1 Axes>"
      ]
     },
     "metadata": {
      "needs_background": "light"
     },
     "output_type": "display_data"
    }
   ],
   "source": [
    "fig, ax = plt.subplots(figsize=(10,8))\n",
    "ax = sb.distplot(has_diabetes['SkinThickness'],bins=25,kde=False) \n",
    "ax = sb.distplot(has_no_diabetes['SkinThickness'],bins=25,kde=False) \n",
    "plt.show()"
   ]
  },
  {
   "cell_type": "markdown",
   "metadata": {
    "id": "vepZNUljMmTh"
   },
   "source": [
    "Although there is a general similarity in the pattern, specific ranges show differences in determining the presence of the disease. This suggests that adding this variable to the analysis may contribute valuable insights.\n",
    "\n",
    "\n",
    "\n",
    "\n"
   ]
  },
  {
   "cell_type": "markdown",
   "metadata": {
    "id": "FKhlyDODMxpM"
   },
   "source": [
    "## Insulin"
   ]
  },
  {
   "cell_type": "code",
   "execution_count": 23,
   "metadata": {
    "colab": {
     "base_uri": "https://localhost:8080/"
    },
    "id": "GpXGGuc5M4XQ",
    "outputId": "0ab733cb-e3ff-4d64-9217-2765f934b648"
   },
   "outputs": [
    {
     "data": {
      "text/plain": [
       "7      2\n",
       "8      1\n",
       "10     3\n",
       "11     5\n",
       "12     6\n",
       "13    10\n",
       "14     6\n",
       "15    11\n",
       "16     5\n",
       "17    10\n",
       "18    16\n",
       "19    12\n",
       "20     8\n",
       "21     8\n",
       "22     9\n",
       "23    17\n",
       "24     8\n",
       "25    12\n",
       "26    14\n",
       "27    14\n",
       "28    13\n",
       "29    14\n",
       "30    18\n",
       "31     8\n",
       "32    20\n",
       "33    17\n",
       "34     8\n",
       "35    11\n",
       "36     9\n",
       "37    11\n",
       "38     3\n",
       "39    12\n",
       "40    10\n",
       "41    12\n",
       "42     9\n",
       "43     5\n",
       "44     4\n",
       "45     6\n",
       "46     7\n",
       "47     4\n",
       "48     4\n",
       "49     3\n",
       "50     3\n",
       "51     1\n",
       "52     2\n",
       "56     1\n",
       "60     1\n",
       "63     1\n",
       "Name: SkinThickness, dtype: int64"
      ]
     },
     "execution_count": 23,
     "metadata": {},
     "output_type": "execute_result"
    }
   ],
   "source": [
    "a = df.Insulin.value_counts().sort_index()\n",
    "a"
   ]
  },
  {
   "cell_type": "markdown",
   "metadata": {
    "id": "f1DK5KZaM-_Z"
   },
   "source": [
    "The same procedure is carried out for the variety of values it presents.\n",
    "\n",
    "\n",
    "\n",
    "\n"
   ]
  },
  {
   "cell_type": "code",
   "execution_count": 24,
   "metadata": {
    "colab": {
     "base_uri": "https://localhost:8080/",
     "height": 54
    },
    "id": "Aom6h1EdNOY7",
    "outputId": "60327132-f7d9-489e-d063-f6016ad593f1"
   },
   "outputs": [
    {
     "name": "stderr",
     "output_type": "stream",
     "text": [
      "C:\\Users\\siles\\anaconda3\\lib\\site-packages\\seaborn\\distributions.py:2619: FutureWarning: `distplot` is a deprecated function and will be removed in a future version. Please adapt your code to use either `displot` (a figure-level function with similar flexibility) or `histplot` (an axes-level function for histograms).\n",
      "  warnings.warn(msg, FutureWarning)\n"
     ]
    },
    {
     "data": {
      "image/png": "[encoded data removed]",
      "text/plain": [
       "<Figure size 720x576 with 1 Axes>"
      ]
     },
     "metadata": {
      "needs_background": "light"
     },
     "output_type": "display_data"
    }
   ],
   "source": [
    "fig, ax = plt.subplots(figsize=(10,8))\n",
    "ax = sb.distplot(has_diabetes['Insulin'],bins=25,kde=False) \n",
    "ax = sb.distplot(has_no_diabetes['Insulin'],bins=25,kde=False) \n",
    "plt.show()"
   ]
  },
  {
   "cell_type": "markdown",
   "metadata": {
    "id": "nwF1zyGlNXgC"
   },
   "source": [
    "Despite having a similar behavior in certain ranges, a different pattern can be observed in others. Due to this, it's necessary to take it into consideration.\n",
    "\n",
    "\n",
    "\n",
    "\n"
   ]
  },
  {
   "cell_type": "markdown",
   "metadata": {
    "id": "yqrpRhkiNrFo"
   },
   "source": [
    "## BMI"
   ]
  },
  {
   "cell_type": "code",
   "execution_count": 25,
   "metadata": {
    "colab": {
     "base_uri": "https://localhost:8080/"
    },
    "id": "srK2a1ARNUlY",
    "outputId": "16d9cabc-eb75-4723-ab6f-cac8386535fd"
   },
   "outputs": [
    {
     "data": {
      "text/plain": [
       "18.2    1\n",
       "19.3    1\n",
       "19.4    1\n",
       "19.5    2\n",
       "19.6    2\n",
       "       ..\n",
       "53.2    1\n",
       "55.0    1\n",
       "57.3    1\n",
       "59.4    1\n",
       "67.1    1\n",
       "Name: BMI, Length: 194, dtype: int64"
      ]
     },
     "execution_count": 25,
     "metadata": {},
     "output_type": "execute_result"
    }
   ],
   "source": [
    "a = df.BMI.value_counts().sort_index()\n",
    "a"
   ]
  },
  {
   "cell_type": "markdown",
   "metadata": {
    "id": "TbS99vOfN4zH"
   },
   "source": [
    "Due to the variety of measurements in this variable, the same procedure is carried out."
   ]
  },
  {
   "cell_type": "code",
   "execution_count": 26,
   "metadata": {
    "colab": {
     "base_uri": "https://localhost:8080/",
     "height": 54
    },
    "id": "Wc-EqV3oOLhr",
    "outputId": "13e22252-f399-4595-fa96-ccc809bb78f0"
   },
   "outputs": [
    {
     "name": "stderr",
     "output_type": "stream",
     "text": [
      "C:\\Users\\siles\\anaconda3\\lib\\site-packages\\seaborn\\distributions.py:2619: FutureWarning: `distplot` is a deprecated function and will be removed in a future version. Please adapt your code to use either `displot` (a figure-level function with similar flexibility) or `histplot` (an axes-level function for histograms).\n",
      "  warnings.warn(msg, FutureWarning)\n"
     ]
    },
    {
     "data": {
      "image/png": "[encoded data removed]",
      "text/plain": [
       "<Figure size 720x576 with 1 Axes>"
      ]
     },
     "metadata": {
      "needs_background": "light"
     },
     "output_type": "display_data"
    }
   ],
   "source": [
    "fig, ax = plt.subplots(figsize=(10,8))\n",
    "ax = sb.distplot(has_diabetes['BMI'],bins=25,kde=False) \n",
    "ax = sb.distplot(has_no_diabetes['BMI'],bins=25,kde=False) \n",
    "plt.show()"
   ]
  },
  {
   "cell_type": "markdown",
   "metadata": {
    "id": "L81qXMTpOO1E"
   },
   "source": [
    "As distinct results are observed for certain ranges in relation to the presence or absence of the disease, it would be prudent to include this variable for analysis.\n",
    "\n",
    "\n",
    "\n",
    "\n"
   ]
  },
  {
   "cell_type": "markdown",
   "metadata": {
    "id": "428DAACqOqku"
   },
   "source": [
    "## Diabetes Pedigree Function"
   ]
  },
  {
   "cell_type": "code",
   "execution_count": 27,
   "metadata": {
    "colab": {
     "base_uri": "https://localhost:8080/"
    },
    "id": "5GvNcMNsO6TD",
    "outputId": "037c57d6-9b7f-4ec3-c0fe-562747822577"
   },
   "outputs": [
    {
     "data": {
      "text/plain": [
       "0.085    1\n",
       "0.088    1\n",
       "0.089    1\n",
       "0.101    1\n",
       "0.107    1\n",
       "        ..\n",
       "1.731    1\n",
       "2.137    1\n",
       "2.288    1\n",
       "2.329    1\n",
       "2.420    1\n",
       "Name: DiabetesPedigreeFunction, Length: 332, dtype: int64"
      ]
     },
     "execution_count": 27,
     "metadata": {},
     "output_type": "execute_result"
    }
   ],
   "source": [
    "a = df.DiabetesPedigreeFunction.value_counts().sort_index()\n",
    "a"
   ]
  },
  {
   "cell_type": "markdown",
   "metadata": {
    "id": "-cyzgAVJPNzA"
   },
   "source": [
    "Given the diversity of values, the dataset is discretized using ranges, as has been done so far.\n",
    "\n",
    "\n",
    "\n",
    "\n"
   ]
  },
  {
   "cell_type": "code",
   "execution_count": 28,
   "metadata": {
    "colab": {
     "base_uri": "https://localhost:8080/",
     "height": 54
    },
    "id": "g20SZCk6PGll",
    "outputId": "170f0658-e0fb-47c6-c15a-5b9a4e8c1d59"
   },
   "outputs": [
    {
     "name": "stderr",
     "output_type": "stream",
     "text": [
      "C:\\Users\\siles\\anaconda3\\lib\\site-packages\\seaborn\\distributions.py:2619: FutureWarning: `distplot` is a deprecated function and will be removed in a future version. Please adapt your code to use either `displot` (a figure-level function with similar flexibility) or `histplot` (an axes-level function for histograms).\n",
      "  warnings.warn(msg, FutureWarning)\n"
     ]
    },
    {
     "data": {
      "image/png": "[encoded data removed]",
      "text/plain": [
       "<Figure size 720x576 with 1 Axes>"
      ]
     },
     "metadata": {
      "needs_background": "light"
     },
     "output_type": "display_data"
    }
   ],
   "source": [
    "fig, ax = plt.subplots(figsize=(10,8))\n",
    "ax = sb.distplot(has_diabetes['DiabetesPedigreeFunction'],bins=25,kde=False) \n",
    "ax = sb.distplot(has_no_diabetes['DiabetesPedigreeFunction'],bins=25,kde=False) \n",
    "plt.show()"
   ]
  },
  {
   "cell_type": "markdown",
   "metadata": {
    "id": "o6oyIDvjPXWW"
   },
   "source": [
    "It is evident that this variable plays a significant role in the presence or absence of the disease.\n",
    "\n",
    "\n",
    "\n",
    "\n"
   ]
  },
  {
   "cell_type": "markdown",
   "metadata": {
    "id": "xS1nzIk9Piaf"
   },
   "source": [
    "## Age"
   ]
  },
  {
   "cell_type": "code",
   "execution_count": 29,
   "metadata": {
    "colab": {
     "base_uri": "https://localhost:8080/"
    },
    "id": "OQWvv7GgPoJf",
    "outputId": "9b8f8731-9a2d-45fd-9b81-39d970c60fd5"
   },
   "outputs": [
    {
     "data": {
      "text/plain": [
       "21    35\n",
       "22    43\n",
       "23    28\n",
       "24    31\n",
       "25    30\n",
       "26    24\n",
       "27    14\n",
       "28    21\n",
       "29    14\n",
       "30    10\n",
       "31    12\n",
       "32     6\n",
       "33    11\n",
       "34     8\n",
       "35     6\n",
       "36     7\n",
       "37     8\n",
       "38     3\n",
       "39     7\n",
       "40     6\n",
       "41     5\n",
       "42     7\n",
       "43     9\n",
       "44     1\n",
       "45     4\n",
       "46     6\n",
       "47     3\n",
       "48     3\n",
       "49     2\n",
       "50     2\n",
       "51     6\n",
       "52     2\n",
       "53     3\n",
       "54     2\n",
       "55     2\n",
       "56     1\n",
       "57     2\n",
       "58     4\n",
       "59     1\n",
       "60     2\n",
       "61     1\n",
       "63     1\n",
       "81     1\n",
       "Name: Age, dtype: int64"
      ]
     },
     "execution_count": 29,
     "metadata": {},
     "output_type": "execute_result"
    }
   ],
   "source": [
    "a = df.Age.value_counts().sort_index()\n",
    "a"
   ]
  },
  {
   "cell_type": "markdown",
   "metadata": {
    "id": "LW0WZnsePtSi"
   },
   "source": [
    "As the variable has a wide range of values, discretizing it into intervals is necessary.\n",
    "\n",
    "\n",
    "\n",
    "\n"
   ]
  },
  {
   "cell_type": "code",
   "execution_count": 30,
   "metadata": {
    "colab": {
     "base_uri": "https://localhost:8080/",
     "height": 497
    },
    "id": "GQsvRufBP01j",
    "outputId": "6d3c0f35-0921-49ea-8d2d-2e43b2e52ac7"
   },
   "outputs": [
    {
     "name": "stderr",
     "output_type": "stream",
     "text": [
      "C:\\Users\\siles\\anaconda3\\lib\\site-packages\\seaborn\\distributions.py:2619: FutureWarning: `distplot` is a deprecated function and will be removed in a future version. Please adapt your code to use either `displot` (a figure-level function with similar flexibility) or `histplot` (an axes-level function for histograms).\n",
      "  warnings.warn(msg, FutureWarning)\n"
     ]
    },
    {
     "data": {
      "image/png": "[encoded data removed]",
      "text/plain": [
       "<Figure size 720x576 with 1 Axes>"
      ]
     },
     "metadata": {
      "needs_background": "light"
     },
     "output_type": "display_data"
    }
   ],
   "source": [
    "fig, ax = plt.subplots(figsize=(10,8))\n",
    "ax = sb.distplot(has_diabetes['Age'],bins=10,kde=False) \n",
    "ax = sb.distplot(has_no_diabetes['Age'],bins=10,kde=False) \n",
    "plt.show()"
   ]
  },
  {
   "cell_type": "markdown",
   "metadata": {
    "id": "mX98jWOrP70g"
   },
   "source": [
    "And finally, this variable could also play a significant role in the analysis.\n",
    "\n",
    "\n",
    "\n",
    "\n"
   ]
  },
  {
   "cell_type": "markdown",
   "metadata": {
    "id": "ApAPO4_1mpvY"
   },
   "source": [
    "## Heatmap"
   ]
  },
  {
   "cell_type": "code",
   "execution_count": 31,
   "metadata": {
    "colab": {
     "base_uri": "https://localhost:8080/",
     "height": 390
    },
    "id": "T2xgZVmPmuSg",
    "outputId": "ad32b907-7fc9-4561-a06c-f8647117ad74"
   },
   "outputs": [
    {
     "data": {
      "image/png": "[encoded data removed]",
      "text/plain": [
       "<Figure size 432x288 with 2 Axes>"
      ]
     },
     "metadata": {
      "needs_background": "light"
     },
     "output_type": "display_data"
    }
   ],
   "source": [
    "sb.heatmap(df.corr(),annot = True);"
   ]
  },
  {
   "cell_type": "markdown",
   "metadata": {
    "id": "X-1rDJyRQCbs"
   },
   "source": [
    "Based on the analysis of all the considered variables, it is proposed to retain all the variables for the analysis.\n",
    "\n",
    "\n",
    "\n",
    "\n",
    "\n"
   ]
  },
  {
   "cell_type": "markdown",
   "metadata": {
    "id": "2ZKEgsWJQ9_v"
   },
   "source": [
    "# Standarization\n"
   ]
  },
  {
   "cell_type": "markdown",
   "metadata": {
    "id": "rNMmTVqPRMmf"
   },
   "source": [
    "Before proceeding with the modeling, it's important to standardize the variables. Standardization transforms the variables to have a mean of 0 and a standard deviation of 1, which is important for many machine learning algorithms."
   ]
  },
  {
   "cell_type": "code",
   "execution_count": 32,
   "metadata": {
    "colab": {
     "base_uri": "https://localhost:8080/",
     "height": 488
    },
    "id": "nMkwOAjrSfp3",
    "outputId": "67e4887a-ade2-479c-cb15-8d6932359a9f"
   },
   "outputs": [
    {
     "data": {
      "text/html": [
       "<div>\n",
       "<style scoped>\n",
       "    .dataframe tbody tr th:only-of-type {\n",
       "        vertical-align: middle;\n",
       "    }\n",
       "\n",
       "    .dataframe tbody tr th {\n",
       "        vertical-align: top;\n",
       "    }\n",
       "\n",
       "    .dataframe thead th {\n",
       "        text-align: right;\n",
       "    }\n",
       "</style>\n",
       "<table border=\"1\" class=\"dataframe\">\n",
       "  <thead>\n",
       "    <tr style=\"text-align: right;\">\n",
       "      <th></th>\n",
       "      <th>Pregnancies</th>\n",
       "      <th>Glucose</th>\n",
       "      <th>BloodPressure</th>\n",
       "      <th>SkinThickness</th>\n",
       "      <th>Insulin</th>\n",
       "      <th>BMI</th>\n",
       "      <th>DiabetesPedigreeFunction</th>\n",
       "      <th>Age</th>\n",
       "    </tr>\n",
       "  </thead>\n",
       "  <tbody>\n",
       "    <tr>\n",
       "      <th>0</th>\n",
       "      <td>-0.713386</td>\n",
       "      <td>-1.093094</td>\n",
       "      <td>-0.373759</td>\n",
       "      <td>-0.582083</td>\n",
       "      <td>-0.518847</td>\n",
       "      <td>-0.709788</td>\n",
       "      <td>-1.025340</td>\n",
       "      <td>-0.963548</td>\n",
       "    </tr>\n",
       "    <tr>\n",
       "      <th>1</th>\n",
       "      <td>-1.025344</td>\n",
       "      <td>0.468162</td>\n",
       "      <td>-2.461427</td>\n",
       "      <td>0.561761</td>\n",
       "      <td>0.104968</td>\n",
       "      <td>1.431204</td>\n",
       "      <td>5.040165</td>\n",
       "      <td>0.214537</td>\n",
       "    </tr>\n",
       "    <tr>\n",
       "      <th>2</th>\n",
       "      <td>-0.089470</td>\n",
       "      <td>-1.450881</td>\n",
       "      <td>-1.658478</td>\n",
       "      <td>0.275800</td>\n",
       "      <td>-0.569426</td>\n",
       "      <td>-0.295863</td>\n",
       "      <td>-0.793701</td>\n",
       "      <td>-0.472679</td>\n",
       "    </tr>\n",
       "    <tr>\n",
       "      <th>3</th>\n",
       "      <td>-0.401428</td>\n",
       "      <td>2.419732</td>\n",
       "      <td>-0.052579</td>\n",
       "      <td>1.514965</td>\n",
       "      <td>3.266189</td>\n",
       "      <td>-0.367229</td>\n",
       "      <td>-1.051077</td>\n",
       "      <td>2.178012</td>\n",
       "    </tr>\n",
       "    <tr>\n",
       "      <th>4</th>\n",
       "      <td>-0.713386</td>\n",
       "      <td>2.159522</td>\n",
       "      <td>-0.855528</td>\n",
       "      <td>-0.582083</td>\n",
       "      <td>5.820456</td>\n",
       "      <td>-0.424322</td>\n",
       "      <td>-0.364740</td>\n",
       "      <td>2.767055</td>\n",
       "    </tr>\n",
       "    <tr>\n",
       "      <th>...</th>\n",
       "      <td>...</td>\n",
       "      <td>...</td>\n",
       "      <td>...</td>\n",
       "      <td>...</td>\n",
       "      <td>...</td>\n",
       "      <td>...</td>\n",
       "      <td>...</td>\n",
       "      <td>...</td>\n",
       "    </tr>\n",
       "    <tr>\n",
       "      <th>389</th>\n",
       "      <td>-1.025344</td>\n",
       "      <td>1.899313</td>\n",
       "      <td>1.392730</td>\n",
       "      <td>1.419645</td>\n",
       "      <td>2.988002</td>\n",
       "      <td>1.459751</td>\n",
       "      <td>-0.868054</td>\n",
       "      <td>-0.472679</td>\n",
       "    </tr>\n",
       "    <tr>\n",
       "      <th>390</th>\n",
       "      <td>-0.713386</td>\n",
       "      <td>0.175427</td>\n",
       "      <td>1.392730</td>\n",
       "      <td>0.943043</td>\n",
       "      <td>-0.383968</td>\n",
       "      <td>0.489168</td>\n",
       "      <td>1.519828</td>\n",
       "      <td>0.607232</td>\n",
       "    </tr>\n",
       "    <tr>\n",
       "      <th>391</th>\n",
       "      <td>-0.401428</td>\n",
       "      <td>-1.125620</td>\n",
       "      <td>-1.016118</td>\n",
       "      <td>-0.296122</td>\n",
       "      <td>-1.176381</td>\n",
       "      <td>-0.666968</td>\n",
       "      <td>0.687644</td>\n",
       "      <td>-0.865374</td>\n",
       "    </tr>\n",
       "    <tr>\n",
       "      <th>392</th>\n",
       "      <td>2.094236</td>\n",
       "      <td>-0.702780</td>\n",
       "      <td>0.429191</td>\n",
       "      <td>1.800926</td>\n",
       "      <td>0.206127</td>\n",
       "      <td>-0.024670</td>\n",
       "      <td>-1.013901</td>\n",
       "      <td>3.159750</td>\n",
       "    </tr>\n",
       "    <tr>\n",
       "      <th>393</th>\n",
       "      <td>0.534446</td>\n",
       "      <td>-0.052256</td>\n",
       "      <td>0.108011</td>\n",
       "      <td>-0.582083</td>\n",
       "      <td>-0.367108</td>\n",
       "      <td>-0.980980</td>\n",
       "      <td>-0.802280</td>\n",
       "      <td>-0.079984</td>\n",
       "    </tr>\n",
       "  </tbody>\n",
       "</table>\n",
       "<p>394 rows × 8 columns</p>\n",
       "</div>"
      ],
      "text/plain": [
       "     Pregnancies   Glucose  BloodPressure  SkinThickness   Insulin       BMI  \\\n",
       "0      -0.713386 -1.093094      -0.373759      -0.582083 -0.518847 -0.709788   \n",
       "1      -1.025344  0.468162      -2.461427       0.561761  0.104968  1.431204   \n",
       "2      -0.089470 -1.450881      -1.658478       0.275800 -0.569426 -0.295863   \n",
       "3      -0.401428  2.419732      -0.052579       1.514965  3.266189 -0.367229   \n",
       "4      -0.713386  2.159522      -0.855528      -0.582083  5.820456 -0.424322   \n",
       "..           ...       ...            ...            ...       ...       ...   \n",
       "389    -1.025344  1.899313       1.392730       1.419645  2.988002  1.459751   \n",
       "390    -0.713386  0.175427       1.392730       0.943043 -0.383968  0.489168   \n",
       "391    -0.401428 -1.125620      -1.016118      -0.296122 -1.176381 -0.666968   \n",
       "392     2.094236 -0.702780       0.429191       1.800926  0.206127 -0.024670   \n",
       "393     0.534446 -0.052256       0.108011      -0.582083 -0.367108 -0.980980   \n",
       "\n",
       "     DiabetesPedigreeFunction       Age  \n",
       "0                   -1.025340 -0.963548  \n",
       "1                    5.040165  0.214537  \n",
       "2                   -0.793701 -0.472679  \n",
       "3                   -1.051077  2.178012  \n",
       "4                   -0.364740  2.767055  \n",
       "..                        ...       ...  \n",
       "389                 -0.868054 -0.472679  \n",
       "390                  1.519828  0.607232  \n",
       "391                  0.687644 -0.865374  \n",
       "392                 -1.013901  3.159750  \n",
       "393                 -0.802280 -0.079984  \n",
       "\n",
       "[394 rows x 8 columns]"
      ]
     },
     "execution_count": 32,
     "metadata": {},
     "output_type": "execute_result"
    }
   ],
   "source": [
    "from sklearn.preprocessing import StandardScaler\n",
    "columns = list(df.columns)[:8]\n",
    "Y = pd.DataFrame(df['Outcome'])\n",
    "X = df.iloc[:,:8]\n",
    "\n",
    "std_scaler = StandardScaler()\n",
    "df_scaled = std_scaler.fit_transform(X.to_numpy())\n",
    "df_scaled = pd.DataFrame(df_scaled, columns=columns)\n",
    "df_scaled"
   ]
  },
  {
   "cell_type": "markdown",
   "metadata": {
    "id": "UDVRQ8BWSqD9"
   },
   "source": [
    "# Data Splitting"
   ]
  },
  {
   "cell_type": "markdown",
   "metadata": {
    "id": "50utngevTDuO"
   },
   "source": [
    "To train and evaluate our model, we will split the dataset into training and testing sets. We will use 80% of the data for training and reserve 20% for testing.\n"
   ]
  },
  {
   "cell_type": "code",
   "execution_count": 33,
   "metadata": {
    "colab": {
     "base_uri": "https://localhost:8080/"
    },
    "id": "4_Kr270CTWX3",
    "outputId": "66b5b114-c48e-4ccb-b327-36c5cabbb7ed"
   },
   "outputs": [
    {
     "name": "stdout",
     "output_type": "stream",
     "text": [
      "Labels counts in y: [264 130]\n",
      "Labels counts in y_train: [211 104]\n",
      "Labels counts in y_test: [53 26]\n"
     ]
    }
   ],
   "source": [
    "from sklearn.model_selection import train_test_split\n",
    "\n",
    "X_train, X_test, y_train, y_test = train_test_split(X, Y, \n",
    "                                                    test_size=0.2,                                               \n",
    "                                                    random_state=1,stratify=Y)\n",
    "y_test = y_test.to_numpy()[:,0]\n",
    "print('Labels counts in y:', np.bincount(Y.to_numpy()[:,0]))\n",
    "print('Labels counts in y_train:', np.bincount(y_train.to_numpy()[:,0]))\n",
    "print('Labels counts in y_test:', np.bincount(y_test))\n"
   ]
  },
  {
   "cell_type": "markdown",
   "metadata": {
    "id": "rZJ9q6e8bDyG"
   },
   "source": [
    "# Predictions using Perceptron"
   ]
  },
  {
   "cell_type": "code",
   "execution_count": 34,
   "metadata": {
    "colab": {
     "base_uri": "https://localhost:8080/"
    },
    "id": "JNYP5AKUbLZo",
    "outputId": "448a859c-ea09-44c5-9c75-d71f65cfddd4"
   },
   "outputs": [
    {
     "name": "stdout",
     "output_type": "stream",
     "text": [
      "Misclassified examples: 25\n",
      "Accuracy: 0.684\n"
     ]
    },
    {
     "name": "stderr",
     "output_type": "stream",
     "text": [
      "C:\\Users\\siles\\anaconda3\\lib\\site-packages\\sklearn\\utils\\validation.py:993: DataConversionWarning: A column-vector y was passed when a 1d array was expected. Please change the shape of y to (n_samples, ), for example using ravel().\n",
      "  y = column_or_1d(y, warn=True)\n"
     ]
    }
   ],
   "source": [
    "from sklearn.linear_model import Perceptron\n",
    "ppn = Perceptron(eta0=0.1, random_state=1)\n",
    "ppn.fit(X_train, y_train)\n",
    "y_pred = ppn.predict(X_test)\n",
    "print('Misclassified examples: %d' % (y_test != y_pred).sum())\n",
    "from sklearn.metrics import accuracy_score\n",
    "print('Accuracy: %.3f' % accuracy_score(y_test, y_pred))"
   ]
  },
  {
   "cell_type": "code",
   "execution_count": 35,
   "metadata": {
    "colab": {
     "base_uri": "https://localhost:8080/"
    },
    "id": "l1vZQmqxbyT5",
    "outputId": "0c24a99d-03b6-4c18-f661-81ee26b4215b"
   },
   "outputs": [
    {
     "name": "stdout",
     "output_type": "stream",
     "text": [
      "Misclassified examples: 25\n",
      "Accuracy: 0.684\n"
     ]
    },
    {
     "name": "stderr",
     "output_type": "stream",
     "text": [
      "C:\\Users\\siles\\anaconda3\\lib\\site-packages\\sklearn\\utils\\validation.py:993: DataConversionWarning: A column-vector y was passed when a 1d array was expected. Please change the shape of y to (n_samples, ), for example using ravel().\n",
      "  y = column_or_1d(y, warn=True)\n"
     ]
    }
   ],
   "source": [
    "from sklearn.linear_model import Perceptron\n",
    "ppn = Perceptron(eta0=0.0001, random_state=1)\n",
    "ppn.fit(X_train, y_train)\n",
    "y_pred = ppn.predict(X_test)\n",
    "print('Misclassified examples: %d' % (y_test != y_pred).sum())\n",
    "print('Accuracy: %.3f' % accuracy_score(y_test, y_pred))"
   ]
  },
  {
   "cell_type": "code",
   "execution_count": 36,
   "metadata": {
    "colab": {
     "base_uri": "https://localhost:8080/"
    },
    "id": "zYr8GFDDYrpn",
    "outputId": "e0905df1-917b-479c-d152-9d5e7f450235"
   },
   "outputs": [
    {
     "name": "stdout",
     "output_type": "stream",
     "text": [
      "Misclassified examples: 25\n",
      "Accuracy: 0.684\n"
     ]
    },
    {
     "name": "stderr",
     "output_type": "stream",
     "text": [
      "C:\\Users\\siles\\anaconda3\\lib\\site-packages\\sklearn\\utils\\validation.py:993: DataConversionWarning: A column-vector y was passed when a 1d array was expected. Please change the shape of y to (n_samples, ), for example using ravel().\n",
      "  y = column_or_1d(y, warn=True)\n"
     ]
    }
   ],
   "source": [
    "from sklearn.linear_model import Perceptron\n",
    "ppn = Perceptron(eta0=0.000001, random_state=1)\n",
    "ppn.fit(X_train, y_train)\n",
    "y_pred = ppn.predict(X_test)\n",
    "print('Misclassified examples: %d' % (y_test != y_pred).sum())\n",
    "from sklearn.metrics import accuracy_score\n",
    "print('Accuracy: %.3f' % accuracy_score(y_test, y_pred))"
   ]
  },
  {
   "cell_type": "markdown",
   "metadata": {
    "id": "TqNUL9OmfLfQ"
   },
   "source": [
    "# Predictions using AdalineGD"
   ]
  },
  {
   "cell_type": "code",
   "execution_count": 37,
   "metadata": {
    "id": "8HcXAWblfP9s"
   },
   "outputs": [],
   "source": [
    "class AdalineGD:\n",
    "    \"\"\"ADAptive LInear NEuron classifier.\n",
    "\n",
    "    Parameters\n",
    "    ------------\n",
    "    eta : float\n",
    "      Learning rate (between 0.0 and 1.0)\n",
    "    n_iter : int\n",
    "      Passes over the training dataset.\n",
    "    random_state : int\n",
    "      Random number generator seed for random weight\n",
    "      initialization.\n",
    "\n",
    "\n",
    "    Attributes\n",
    "    -----------\n",
    "    w_ : 1d-array\n",
    "      Weights after fitting.\n",
    "    b_ : Scalar\n",
    "      Bias unit after fitting.\n",
    "    losses_ : list\n",
    "      Mean squared eror loss function values in each epoch.\n",
    "\n",
    "    \"\"\"\n",
    "    def __init__(self, eta=0.01, n_iter=50, random_state=1):\n",
    "        self.eta = eta\n",
    "        self.n_iter = n_iter\n",
    "        self.random_state = random_state\n",
    "\n",
    "    def fit(self, X, y):\n",
    "        \"\"\" Fit training data.\n",
    "\n",
    "        Parameters\n",
    "        ----------\n",
    "        X : {array-like}, shape = [n_examples, n_features]\n",
    "          Training vectors, where n_examples is the number of examples and\n",
    "          n_features is the number of features.\n",
    "        y : array-like, shape = [n_examples]\n",
    "          Target values.\n",
    "\n",
    "        Returns\n",
    "        -------\n",
    "        self : object\n",
    "\n",
    "        \"\"\"\n",
    "        rgen = np.random.RandomState(self.random_state)\n",
    "        self.w_ = rgen.normal(loc=0.0, scale=0.01, size=X.shape[1])\n",
    "        self.b_ = np.float_(0.)\n",
    "        self.losses_ = []\n",
    "\n",
    "        for i in range(self.n_iter):\n",
    "            net_input = self.net_input(X)\n",
    "            # Please note that the \"activation\" method has no effect\n",
    "            # in the code since it is simply an identity function. We\n",
    "            # could write `output = self.net_input(X)` directly instead.\n",
    "            # The purpose of the activation is more conceptual, i.e.,  \n",
    "            # in the case of logistic regression (as we will see later), \n",
    "            # we could change it to\n",
    "            # a sigmoid function to implement a logistic regression classifier.\n",
    "            output = self.activation(net_input)\n",
    "            errors = (y - output)\n",
    "            \n",
    "            #for w_j in range(self.w_.shape[0]):\n",
    "            #    self.w_[w_j] += self.eta * (2.0 * (X[:, w_j]*errors)).mean()\n",
    "            \n",
    "            self.w_ += self.eta * 2.0 * X.T.dot(errors) / X.shape[0]\n",
    "            self.b_ += self.eta * 2.0 * errors.mean()\n",
    "            loss = (errors**2).mean()\n",
    "            self.losses_.append(loss)\n",
    "        return self\n",
    "\n",
    "    def net_input(self, X):\n",
    "        \"\"\"Calculate net input\"\"\"\n",
    "        return np.dot(X, self.w_) + self.b_\n",
    "\n",
    "    def activation(self, X):\n",
    "        \"\"\"Compute linear activation\"\"\"\n",
    "        return X\n",
    "\n",
    "    def predict(self, X):\n",
    "        \"\"\"Return class label after unit step\"\"\"\n",
    "        return np.where(self.activation(self.net_input(X)) >= 0.5, 1, 0)"
   ]
  },
  {
   "cell_type": "code",
   "execution_count": 38,
   "metadata": {
    "colab": {
     "base_uri": "https://localhost:8080/",
     "height": 312
    },
    "id": "o47KguSOfb4j",
    "outputId": "4be11af8-05a2-4778-d59a-64ed2b9dec8b"
   },
   "outputs": [
    {
     "data": {
      "text/plain": [
       "Text(0.5, 1.0, 'Adaline - Learning rate 0.00001')"
      ]
     },
     "execution_count": 38,
     "metadata": {},
     "output_type": "execute_result"
    },
    {
     "data": {
      "image/png": "[encoded data removed]",
      "text/plain": [
       "<Figure size 720x288 with 3 Axes>"
      ]
     },
     "metadata": {
      "needs_background": "light"
     },
     "output_type": "display_data"
    }
   ],
   "source": [
    "fig, ax = plt.subplots(nrows=1, ncols=3, figsize=(10, 4))\n",
    "\n",
    "ada1 = AdalineGD(n_iter=15, eta=0.001).fit(X_train.to_numpy(), y_train[\"Outcome\"].to_numpy())\n",
    "ax[0].plot(range(1, len(ada1.losses_) + 1), np.log10(ada1.losses_), marker='o')\n",
    "ax[0].set_xlabel('Epochs')\n",
    "ax[0].set_ylabel('log(Mean squared error)')\n",
    "ax[0].set_title('Adaline - Learning rate 0.1')\n",
    "\n",
    "ada2 = AdalineGD(n_iter=15, eta=0.00001).fit(X_train.to_numpy(), y_train[\"Outcome\"].to_numpy())\n",
    "ax[1].plot(range(1, len(ada2.losses_) + 1), np.log10(ada2.losses_), marker='o')\n",
    "ax[1].set_xlabel('Epochs')\n",
    "ax[1].set_ylabel('log(Mean squared error)')\n",
    "ax[1].set_title('Adaline - Learning rate 0.00001')\n",
    "\n",
    "\n",
    "ada3 = AdalineGD(n_iter=1000000, eta=0.00001).fit(X_train.to_numpy(), y_train[\"Outcome\"].to_numpy())\n",
    "ax[2].plot(range(1, len(ada3.losses_) + 1), np.log10(ada3.losses_), marker='o')\n",
    "ax[2].set_xlabel('Epochs')\n",
    "ax[2].set_ylabel('log(Mean squared error)')\n",
    "ax[2].set_title('Adaline - Learning rate 0.00001')\n"
   ]
  },
  {
   "cell_type": "markdown",
   "metadata": {
    "id": "T3bRdBTEOCgS"
   },
   "source": [
    "The Adaline (Adaptive Linear Neuron) model is employed with different hyperparameter values to assess convergence behavior:\n",
    "\n",
    "For eta = 0.001, divergence is visually demonstrated, indicating the need to opt for a smaller value.\n",
    "\n",
    "For the remaining eta values assigned to the model, convergence is observed, rendering them suitable for training."
   ]
  },
  {
   "cell_type": "code",
   "execution_count": 39,
   "metadata": {
    "colab": {
     "base_uri": "https://localhost:8080/"
    },
    "id": "ywsQGzPthuDi",
    "outputId": "d5c586a9-e61a-48a5-e501-a64883bc6ed3"
   },
   "outputs": [
    {
     "name": "stdout",
     "output_type": "stream",
     "text": [
      "Misclassified examples: 26\n",
      "Accuracy: 0.671\n"
     ]
    }
   ],
   "source": [
    "prediction = ada2.predict(X_test.to_numpy())\n",
    "#print(y_test.shape)\n",
    "print('Misclassified examples: %d' % (y_test != prediction).sum())\n",
    "from sklearn.metrics import accuracy_score\n",
    "print('Accuracy: %.3f' % accuracy_score(y_test,prediction))"
   ]
  },
  {
   "cell_type": "code",
   "execution_count": 40,
   "metadata": {
    "colab": {
     "base_uri": "https://localhost:8080/"
    },
    "id": "sIJvtoxXo6SF",
    "outputId": "d398dbbb-5754-4227-b7bd-a7b912263959"
   },
   "outputs": [
    {
     "name": "stdout",
     "output_type": "stream",
     "text": [
      "Misclassified examples: 22\n",
      "Accuracy: 0.722\n"
     ]
    }
   ],
   "source": [
    "prediction = ada3.predict(X_test.to_numpy())\n",
    "#print(y_test.shape)\n",
    "print('Misclassified examples: %d' % (y_test != prediction).sum())\n",
    "from sklearn.metrics import accuracy_score\n",
    "print('Accuracy: %.3f' % accuracy_score(y_test,prediction))"
   ]
  },
  {
   "cell_type": "markdown",
   "metadata": {
    "id": "9fufJtnPpjFE"
   },
   "source": [
    "\n",
    "The best result from hyperparameter tuning and the overall model of the study yielded an accuracy of 0.722. There were 22 misclassified instances in the test set. This achievement was accomplished with 1,000,000 epochs and a learning rate (eta) of 0.00001."
   ]
  }
 ],
 "metadata": {
  "colab": {
   "collapsed_sections": [
    "PE4q3GKEe8Yr",
    "373YLwoljdZC",
    "m_OVdd8ELGAs",
    "-XI0WHxiMESA",
    "FKhlyDODMxpM",
    "yqrpRhkiNrFo",
    "428DAACqOqku"
   ],
   "provenance": []
  },
  "kernelspec": {
   "display_name": "Python 3 (ipykernel)",
   "language": "python",
   "name": "python3"
  },
  "language_info": {
   "codemirror_mode": {
    "name": "ipython",
    "version": 3
   },
   "file_extension": ".py",
   "mimetype": "text/x-python",
   "name": "python",
   "nbconvert_exporter": "python",
   "pygments_lexer": "ipython3",
   "version": "3.10.0"
  }
 },
 "nbformat": 4,
 "nbformat_minor": 1
}
